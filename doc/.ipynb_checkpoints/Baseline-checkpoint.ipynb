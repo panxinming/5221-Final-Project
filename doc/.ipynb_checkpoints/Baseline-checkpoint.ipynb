{
 "cells": [
  {
   "cell_type": "code",
   "execution_count": 4,
   "id": "7eb3a16d",
   "metadata": {},
   "outputs": [
    {
     "name": "stdout",
     "output_type": "stream",
     "text": [
      "Collecting tqdm\n",
      "  Downloading tqdm-4.65.0-py3-none-any.whl (77 kB)\n",
      "\u001b[2K     \u001b[90m━━━━━━━━━━━━━━━━━━━━━━━━━━━━━━━━━━━━━━━\u001b[0m \u001b[32m77.1/77.1 kB\u001b[0m \u001b[31m673.9 kB/s\u001b[0m eta \u001b[36m0:00:00\u001b[0ma \u001b[36m0:00:01\u001b[0m\n",
      "\u001b[?25hInstalling collected packages: tqdm\n",
      "Successfully installed tqdm-4.65.0\n",
      "Note: you may need to restart the kernel to use updated packages.\n"
     ]
    }
   ],
   "source": [
    "pip install tqdm"
   ]
  },
  {
   "cell_type": "code",
   "execution_count": 5,
   "id": "6231d21f",
   "metadata": {},
   "outputs": [],
   "source": [
    "import numpy as np\n",
    "import torch\n",
    "from sklearn.preprocessing import MinMaxScaler,StandardScaler\n",
    "import matplotlib.pyplot as plt\n",
    "from torch import nn\n",
    "import torch.nn.functional as F\n",
    "import torch.optim as optim\n",
    "from tqdm.notebook import tqdm_notebook\n",
    "import pandas as pd\n",
    "from sklearn.metrics import mean_squared_error\n",
    "import scipy"
   ]
  },
  {
   "cell_type": "code",
   "execution_count": 6,
   "id": "17137587",
   "metadata": {},
   "outputs": [],
   "source": [
    "feature_matrix = np.load('new_feature_matrix.npy')\n",
    "# device = torch.device(\"cuda\" if torch.cuda.is_available() else \"cpu\")\n",
    "device = 'cpu'\n",
    "cuda = True if torch.cuda.is_available() else False\n",
    "drop_rate = 0.5\n",
    "time_step = 5\n",
    "epochs = 200\n",
    "feature_matrix = np.load('new_feature_matrix.npy')"
   ]
  },
  {
   "cell_type": "code",
   "execution_count": 7,
   "id": "d503281e",
   "metadata": {},
   "outputs": [],
   "source": [
    "scaler = StandardScaler()\n",
    "## normalization\n",
    "def normalization(feature_matrix):\n",
    "    feature_mat = np.zeros((feature_matrix.shape[0],feature_matrix.shape[1],feature_matrix.shape[2]))\n",
    "    target = np.zeros((feature_matrix.shape[0],feature_matrix.shape[1]))\n",
    "    for i in range(feature_matrix.shape[0]):\n",
    "        feature_vector=feature_matrix[i]\n",
    "        f1 = scaler.fit_transform(feature_vector[:,0].reshape(-1,1)).reshape(-1,1)\n",
    "        f2 = scaler.fit_transform(feature_vector[:,1].reshape(-1,1)).reshape(-1,1)\n",
    "        f3 = scaler.fit_transform(feature_vector[:,2].reshape(-1,1)).reshape(-1,1)\n",
    "        f4 = scaler.fit_transform(feature_vector[:,3].reshape(-1,1)).reshape(-1,1)\n",
    "        visit_nums = scaler.fit_transform(feature_vector[:,4].reshape(-1,1)).reshape(-1,1)\n",
    "        feature_vector = np.stack([f1,f2,f3,f4,visit_nums],axis=1).reshape(feature_matrix.shape[1],feature_matrix.shape[2])\n",
    "        feature_mat[i] = feature_vector\n",
    "    return feature_mat\n",
    "\n",
    "\n",
    "## split into train, test and validation\n",
    "features = feature_matrix\n",
    "features = normalization(features)\n",
    "train_idx, test_idx, val_idx = [],[],[]\n",
    "for i in range(features.shape[0]):\n",
    "    if i%5<=2:\n",
    "        train_idx.append(i)\n",
    "    elif i%5==3:\n",
    "        val_idx.append(i)\n",
    "    else:\n",
    "        test_idx.append(i)\n",
    "\n",
    "train_features = features[train_idx,:,:]\n",
    "test_features = features[test_idx,:,:]\n",
    "val_features = features[val_idx,:,:]"
   ]
  },
  {
   "cell_type": "code",
   "execution_count": 8,
   "id": "733176f4",
   "metadata": {},
   "outputs": [
    {
     "name": "stdout",
     "output_type": "stream",
     "text": [
      "(18, 172, 5)\n",
      "(18, 172, 5)\n",
      "(54, 172, 5)\n"
     ]
    }
   ],
   "source": [
    "print(val_features.shape)\n",
    "print(test_features.shape)\n",
    "print(train_features.shape)"
   ]
  },
  {
   "cell_type": "code",
   "execution_count": 9,
   "id": "a84cb084",
   "metadata": {},
   "outputs": [],
   "source": [
    "def get_features(features, index):\n",
    "    f = features[:,index,:].cpu()\n",
    "    new = np.zeros((len(f) - time_step, time_step, 4-1))\n",
    "    target = np.zeros((len(f) - time_step, 1))\n",
    "    for i in range(len(f) - time_step):\n",
    "        new[i] = f[i:i+time_step,1:4]\n",
    "        target[i] = f[i+time_step, 4]\n",
    "    return new, target"
   ]
  },
  {
   "cell_type": "markdown",
   "id": "d61d2c45",
   "metadata": {},
   "source": [
    "# LSTM(Long Short Term Memory)"
   ]
  },
  {
   "cell_type": "code",
   "execution_count": 10,
   "id": "6624798b",
   "metadata": {},
   "outputs": [],
   "source": [
    "class MLP(torch.nn.Module):\n",
    "    def __init__(self, n_i, n_h, n_o):\n",
    "        super(MLP, self).__init__()\n",
    "        self.linear1 = nn.Linear(n_i, n_h)\n",
    "        self.relu = nn.ReLU()\n",
    "        self.linear2 = nn.Linear(n_h, n_o)\n",
    "    def forward(self, input):\n",
    "        input = self.linear1(input)\n",
    "        input = self.relu(input)\n",
    "        input = F.dropout(input, p=drop_rate, training=self.training)\n",
    "        input = self.linear2(input)\n",
    "        return input\n",
    "###Convert the data to tensor \n",
    "def totensor(data):\n",
    "    return torch.Tensor(data).to(device)\n",
    "\n",
    "class LSTM(nn.Module):\n",
    "    def __init__(self):\n",
    "        super(LSTM,self).__init__()\n",
    "        self.mlp = MLP(time_step*4,32,1)#input is the num of time_step\n",
    "        self.lstm1 = nn.LSTM(input_size=3,hidden_size=128,num_layers=2,batch_first=True)\n",
    "        self.lstm2 = nn.LSTM(input_size=128,hidden_size=4,num_layers=2,batch_first=True)\n",
    "    def forward(self, x):\n",
    "        x1,x2,x3 = x.size()\n",
    "        h1, (h1_T,c1_T) = self.lstm1(x)\n",
    "        h2, (h2_T, c2_T) = self.lstm2(h1)\n",
    "        h2 = h2.reshape(x1,-1)\n",
    "        output= self.mlp(h2)\n",
    "        return output "
   ]
  },
  {
   "cell_type": "code",
   "execution_count": 11,
   "id": "92cc9ad8",
   "metadata": {},
   "outputs": [],
   "source": [
    "min_val_loss = np.inf\n",
    "mean_losses = []\n",
    "losses = pd.DataFrame(columns = ['Training Loss', 'Validating Loss','Testing Loss'])\n",
    "model = LSTM().cpu()\n",
    "loss = nn.MSELoss()\n",
    "optimizer = optim.AdamW(model.parameters(),lr=0.001)"
   ]
  },
  {
   "cell_type": "code",
   "execution_count": 8,
   "id": "36d0f04e",
   "metadata": {},
   "outputs": [
    {
     "data": {
      "application/vnd.jupyter.widget-view+json": {
       "model_id": "da843df287b3433f827aa2e64c0159cf",
       "version_major": 2,
       "version_minor": 0
      },
      "text/plain": [
       "  0%|          | 0/200 [00:00<?, ?it/s]"
      ]
     },
     "metadata": {},
     "output_type": "display_data"
    },
    {
     "name": "stdout",
     "output_type": "stream",
     "text": [
      "Epoch: 001 | Lr: 0.00100000000000000002 |Train loss: 0.98940410|Val loss: 0.99322359\n",
      "Epoch: 002 | Lr: 0.00100000000000000002 |Train loss: 0.98940410|Val loss: 1.03204488\n",
      "Epoch: 003 | Lr: 0.00100000000000000002 |Train loss: 0.97869261|Val loss: 0.98408579\n",
      "Epoch: 004 | Lr: 0.00100000000000000002 |Train loss: 0.97869261|Val loss: 1.01780213\n",
      "Epoch: 005 | Lr: 0.00100000000000000002 |Train loss: 0.97575103|Val loss: 0.97224550\n",
      "Epoch: 006 | Lr: 0.00100000000000000002 |Train loss: 0.90510861|Val loss: 0.89693593\n",
      "Epoch: 007 | Lr: 0.00100000000000000002 |Train loss: 0.89576473|Val loss: 0.90940972\n",
      "Epoch: 008 | Lr: 0.00100000000000000002 |Train loss: 0.89576473|Val loss: 0.90141057\n",
      "Epoch: 009 | Lr: 0.00100000000000000002 |Train loss: 0.89546434|Val loss: 0.88227303\n",
      "Epoch: 010 | Lr: 0.00100000000000000002 |Train loss: 0.89546434|Val loss: 0.90748046\n",
      "Epoch: 011 | Lr: 0.00100000000000000002 |Train loss: 0.88424594|Val loss: 0.88363683\n",
      "Epoch: 012 | Lr: 0.00100000000000000002 |Train loss: 0.87943321|Val loss: 0.88205231\n",
      "Epoch: 013 | Lr: 0.00100000000000000002 |Train loss: 0.85468274|Val loss: 0.85881575\n",
      "Epoch: 014 | Lr: 0.00100000000000000002 |Train loss: 0.85468274|Val loss: 0.89551872\n",
      "Epoch: 015 | Lr: 0.00100000000000000002 |Train loss: 0.85468274|Val loss: 0.88767748\n",
      "Epoch: 016 | Lr: 0.00100000000000000002 |Train loss: 0.85468274|Val loss: 0.86937554\n",
      "Epoch: 017 | Lr: 0.00100000000000000002 |Train loss: 0.85468274|Val loss: 0.87599643\n",
      "Epoch: 018 | Lr: 0.00100000000000000002 |Train loss: 0.84070853|Val loss: 0.84784619\n",
      "Epoch: 019 | Lr: 0.00100000000000000002 |Train loss: 0.84070853|Val loss: 0.87143060\n",
      "Epoch: 020 | Lr: 0.00100000000000000002 |Train loss: 0.84070853|Val loss: 0.87473004\n",
      "Epoch: 021 | Lr: 0.00100000000000000002 |Train loss: 0.84070853|Val loss: 0.85825729\n",
      "Epoch: 022 | Lr: 0.00100000000000000002 |Train loss: 0.84070853|Val loss: 0.87142581\n",
      "Epoch: 023 | Lr: 0.00100000000000000002 |Train loss: 0.84070853|Val loss: 0.86500718\n",
      "Epoch: 024 | Lr: 0.00100000000000000002 |Train loss: 0.83765935|Val loss: 0.84500282\n",
      "Epoch: 025 | Lr: 0.00100000000000000002 |Train loss: 0.83765935|Val loss: 0.85523898\n",
      "Epoch: 026 | Lr: 0.00100000000000000002 |Train loss: 0.83765935|Val loss: 0.85944065\n",
      "Epoch: 027 | Lr: 0.00100000000000000002 |Train loss: 0.83546341|Val loss: 0.85369997\n",
      "Epoch: 028 | Lr: 0.00100000000000000002 |Train loss: 0.83546341|Val loss: 0.83721622\n",
      "Epoch: 029 | Lr: 0.00100000000000000002 |Train loss: 0.83546341|Val loss: 0.84563419\n",
      "Epoch: 030 | Lr: 0.00100000000000000002 |Train loss: 0.82886798|Val loss: 0.83648495\n",
      "Epoch: 031 | Lr: 0.00100000000000000002 |Train loss: 0.82493547|Val loss: 0.84924112\n",
      "Epoch: 032 | Lr: 0.00100000000000000002 |Train loss: 0.82493547|Val loss: 0.83847064\n",
      "Epoch: 033 | Lr: 0.00100000000000000002 |Train loss: 0.82493547|Val loss: 0.85175554\n",
      "Epoch: 034 | Lr: 0.00100000000000000002 |Train loss: 0.82146596|Val loss: 0.82922967\n",
      "Epoch: 035 | Lr: 0.00100000000000000002 |Train loss: 0.82146596|Val loss: 0.84681870\n",
      "Epoch: 036 | Lr: 0.00100000000000000002 |Train loss: 0.81388944|Val loss: 0.82574223\n",
      "Epoch: 037 | Lr: 0.00100000000000000002 |Train loss: 0.81131443|Val loss: 0.81460740\n",
      "Epoch: 038 | Lr: 0.00100000000000000002 |Train loss: 0.80385625|Val loss: 0.80448931\n",
      "Epoch: 039 | Lr: 0.00100000000000000002 |Train loss: 0.80385625|Val loss: 0.81757071\n",
      "Epoch: 040 | Lr: 0.00100000000000000002 |Train loss: 0.80385625|Val loss: 0.86503166\n",
      "Epoch: 041 | Lr: 0.00100000000000000002 |Train loss: 0.80385625|Val loss: 0.82542269\n",
      "Epoch: 042 | Lr: 0.00100000000000000002 |Train loss: 0.80385625|Val loss: 0.84134931\n",
      "Epoch: 043 | Lr: 0.00100000000000000002 |Train loss: 0.80385625|Val loss: 0.83258775\n",
      "Epoch: 044 | Lr: 0.00100000000000000002 |Train loss: 0.80385625|Val loss: 0.84197696\n",
      "Epoch: 045 | Lr: 0.00100000000000000002 |Train loss: 0.80385625|Val loss: 0.83134638\n",
      "Epoch: 046 | Lr: 0.00100000000000000002 |Train loss: 0.80385625|Val loss: 0.82122244\n",
      "Epoch: 047 | Lr: 0.00100000000000000002 |Train loss: 0.80385625|Val loss: 0.81668721\n",
      "Epoch: 048 | Lr: 0.00100000000000000002 |Train loss: 0.79966150|Val loss: 0.81161268\n",
      "Epoch: 049 | Lr: 0.00100000000000000002 |Train loss: 0.79084787|Val loss: 0.80055592\n",
      "Epoch: 050 | Lr: 0.00100000000000000002 |Train loss: 0.79084787|Val loss: 0.83538889\n",
      "Epoch: 051 | Lr: 0.00100000000000000002 |Train loss: 0.79084787|Val loss: 0.83393780\n",
      "Epoch: 052 | Lr: 0.00100000000000000002 |Train loss: 0.79084787|Val loss: 0.82341846\n",
      "Epoch: 053 | Lr: 0.00100000000000000002 |Train loss: 0.79084787|Val loss: 0.79826524\n",
      "Epoch: 054 | Lr: 0.00100000000000000002 |Train loss: 0.77912211|Val loss: 0.80733011\n",
      "Epoch: 055 | Lr: 0.00100000000000000002 |Train loss: 0.77912211|Val loss: 0.79126163\n",
      "Epoch: 056 | Lr: 0.00100000000000000002 |Train loss: 0.76277019|Val loss: 0.79672853\n",
      "Epoch: 057 | Lr: 0.00100000000000000002 |Train loss: 0.76277019|Val loss: 0.78440263\n",
      "Epoch: 058 | Lr: 0.00100000000000000002 |Train loss: 0.76277019|Val loss: 0.77458173\n",
      "Epoch: 059 | Lr: 0.00100000000000000002 |Train loss: 0.76277019|Val loss: 0.79866108\n",
      "Epoch: 060 | Lr: 0.00100000000000000002 |Train loss: 0.75980120|Val loss: 0.76997163\n",
      "Epoch: 061 | Lr: 0.00100000000000000002 |Train loss: 0.75924567|Val loss: 0.76501066\n",
      "Epoch: 062 | Lr: 0.00100000000000000002 |Train loss: 0.75924567|Val loss: 0.76408963\n",
      "Epoch: 063 | Lr: 0.00100000000000000002 |Train loss: 0.75024157|Val loss: 0.76618070\n",
      "Epoch: 064 | Lr: 0.00100000000000000002 |Train loss: 0.75024157|Val loss: 0.75904181\n",
      "Epoch: 065 | Lr: 0.00100000000000000002 |Train loss: 0.75024157|Val loss: 0.78985232\n",
      "Epoch: 066 | Lr: 0.00100000000000000002 |Train loss: 0.75024157|Val loss: 0.77934070\n",
      "Epoch: 067 | Lr: 0.00100000000000000002 |Train loss: 0.75024157|Val loss: 0.76198099\n",
      "Epoch: 068 | Lr: 0.00100000000000000002 |Train loss: 0.74411157|Val loss: 0.77077307\n",
      "Epoch: 069 | Lr: 0.00100000000000000002 |Train loss: 0.74149983|Val loss: 0.74409032\n",
      "Epoch: 070 | Lr: 0.00100000000000000002 |Train loss: 0.73355613|Val loss: 0.74508232\n",
      "Epoch: 071 | Lr: 0.00100000000000000002 |Train loss: 0.70177779|Val loss: 0.71463997\n",
      "Epoch: 072 | Lr: 0.00100000000000000002 |Train loss: 0.70177779|Val loss: 0.81366437\n",
      "Epoch: 073 | Lr: 0.00100000000000000002 |Train loss: 0.70177779|Val loss: 0.74023602\n",
      "Epoch: 074 | Lr: 0.00100000000000000002 |Train loss: 0.70177779|Val loss: 0.73992201\n",
      "Epoch: 075 | Lr: 0.00100000000000000002 |Train loss: 0.70177779|Val loss: 0.72769431\n",
      "Epoch: 076 | Lr: 0.00100000000000000002 |Train loss: 0.70177779|Val loss: 0.72384613\n",
      "Epoch: 077 | Lr: 0.00100000000000000002 |Train loss: 0.70177779|Val loss: 0.71945372\n",
      "Epoch: 078 | Lr: 0.00100000000000000002 |Train loss: 0.70177779|Val loss: 0.70861768\n",
      "Epoch: 079 | Lr: 0.00100000000000000002 |Train loss: 0.70177779|Val loss: 0.74711015\n",
      "Epoch: 080 | Lr: 0.00100000000000000002 |Train loss: 0.70177779|Val loss: 0.71334014\n",
      "Epoch: 081 | Lr: 0.00100000000000000002 |Train loss: 0.69795515|Val loss: 0.70551158\n",
      "Epoch: 082 | Lr: 0.00100000000000000002 |Train loss: 0.69795515|Val loss: 0.70839456\n",
      "Epoch: 083 | Lr: 0.00100000000000000002 |Train loss: 0.69795515|Val loss: 0.71402071\n",
      "Epoch: 084 | Lr: 0.00100000000000000002 |Train loss: 0.69795515|Val loss: 0.78837044\n",
      "Epoch: 085 | Lr: 0.00100000000000000002 |Train loss: 0.69795515|Val loss: 0.75651284\n",
      "Epoch: 086 | Lr: 0.00100000000000000002 |Train loss: 0.69600571|Val loss: 0.69106399\n",
      "Epoch: 087 | Lr: 0.00100000000000000002 |Train loss: 0.69106244|Val loss: 0.69829550\n",
      "Epoch: 088 | Lr: 0.00100000000000000002 |Train loss: 0.68998403|Val loss: 0.71196773\n",
      "Epoch: 089 | Lr: 0.00100000000000000002 |Train loss: 0.67288013|Val loss: 0.67891094\n",
      "Epoch: 090 | Lr: 0.00100000000000000002 |Train loss: 0.67288013|Val loss: 0.75327070\n",
      "Epoch: 091 | Lr: 0.00100000000000000002 |Train loss: 0.67288013|Val loss: 0.70129497\n",
      "Epoch: 092 | Lr: 0.00100000000000000002 |Train loss: 0.67288013|Val loss: 0.70371428\n",
      "Epoch: 093 | Lr: 0.00100000000000000002 |Train loss: 0.67288013|Val loss: 0.74756143\n",
      "Epoch: 094 | Lr: 0.00100000000000000002 |Train loss: 0.67288013|Val loss: 0.67420232\n",
      "Epoch: 095 | Lr: 0.00100000000000000002 |Train loss: 0.67288013|Val loss: 0.67454715\n",
      "Epoch: 096 | Lr: 0.00100000000000000002 |Train loss: 0.67235033|Val loss: 0.70166659\n",
      "Epoch: 097 | Lr: 0.00100000000000000002 |Train loss: 0.67235033|Val loss: 0.68896507\n"
     ]
    },
    {
     "name": "stdout",
     "output_type": "stream",
     "text": [
      "Epoch: 098 | Lr: 0.00100000000000000002 |Train loss: 0.67235033|Val loss: 0.76767970\n",
      "Epoch: 099 | Lr: 0.00100000000000000002 |Train loss: 0.67235033|Val loss: 0.73453389\n",
      "Epoch: 100 | Lr: 0.00100000000000000002 |Train loss: 0.67235033|Val loss: 0.69692940\n",
      "Epoch: 101 | Lr: 0.00100000000000000002 |Train loss: 0.67235033|Val loss: 0.70078721\n",
      "Epoch: 102 | Lr: 0.00100000000000000002 |Train loss: 0.67235033|Val loss: 0.71662907\n",
      "Epoch: 103 | Lr: 0.00100000000000000002 |Train loss: 0.67235033|Val loss: 0.70879151\n",
      "Epoch: 104 | Lr: 0.00100000000000000002 |Train loss: 0.67235033|Val loss: 0.70846624\n",
      "Epoch: 105 | Lr: 0.00100000000000000002 |Train loss: 0.67235033|Val loss: 0.67319369\n",
      "Epoch: 106 | Lr: 0.00100000000000000002 |Train loss: 0.67235033|Val loss: 0.72859773\n",
      "Epoch: 107 | Lr: 0.00100000000000000002 |Train loss: 0.67235033|Val loss: 0.68959799\n",
      "Epoch: 108 | Lr: 0.00100000000000000002 |Train loss: 0.67103506|Val loss: 0.67954103\n",
      "Epoch: 109 | Lr: 0.00100000000000000002 |Train loss: 0.67103506|Val loss: 0.68722055\n",
      "Epoch: 110 | Lr: 0.00100000000000000002 |Train loss: 0.67103506|Val loss: 0.67302562\n",
      "Epoch: 111 | Lr: 0.00100000000000000002 |Train loss: 0.66073861|Val loss: 0.67566889\n",
      "Epoch: 112 | Lr: 0.00100000000000000002 |Train loss: 0.66073861|Val loss: 0.69593993\n",
      "Epoch: 113 | Lr: 0.00100000000000000002 |Train loss: 0.66073861|Val loss: 0.67919212\n",
      "Epoch: 114 | Lr: 0.00100000000000000002 |Train loss: 0.66073861|Val loss: 0.74186751\n",
      "Epoch: 115 | Lr: 0.00100000000000000002 |Train loss: 0.66073861|Val loss: 0.71454665\n",
      "Epoch: 116 | Lr: 0.00100000000000000002 |Train loss: 0.66073861|Val loss: 0.68966178\n",
      "Epoch: 117 | Lr: 0.00100000000000000002 |Train loss: 0.66073861|Val loss: 0.67179329\n",
      "Epoch: 118 | Lr: 0.00100000000000000002 |Train loss: 0.66073861|Val loss: 0.67847066\n",
      "Epoch: 119 | Lr: 0.00100000000000000002 |Train loss: 0.66073861|Val loss: 0.72583039\n",
      "Epoch: 120 | Lr: 0.00100000000000000002 |Train loss: 0.66073861|Val loss: 0.67090576\n",
      "Epoch: 121 | Lr: 0.00100000000000000002 |Train loss: 0.66073861|Val loss: 0.69678945\n",
      "Epoch: 122 | Lr: 0.00100000000000000002 |Train loss: 0.66073861|Val loss: 0.69614242\n",
      "Epoch: 123 | Lr: 0.00100000000000000002 |Train loss: 0.65242492|Val loss: 0.65017230\n",
      "Epoch: 124 | Lr: 0.00100000000000000002 |Train loss: 0.64935409|Val loss: 0.61218976\n",
      "Epoch: 125 | Lr: 0.00100000000000000002 |Train loss: 0.64935409|Val loss: 0.70184286\n",
      "Epoch: 126 | Lr: 0.00100000000000000002 |Train loss: 0.64935409|Val loss: 0.64756819\n",
      "Epoch: 127 | Lr: 0.00100000000000000002 |Train loss: 0.64935409|Val loss: 0.77377914\n",
      "Epoch: 128 | Lr: 0.00100000000000000002 |Train loss: 0.64935409|Val loss: 0.65617286\n",
      "Epoch: 129 | Lr: 0.00100000000000000002 |Train loss: 0.64935409|Val loss: 0.65928552\n",
      "Epoch: 130 | Lr: 0.00100000000000000002 |Train loss: 0.63542024|Val loss: 0.65899751\n",
      "Epoch: 131 | Lr: 0.00100000000000000002 |Train loss: 0.63542024|Val loss: 0.63045830\n",
      "Epoch: 132 | Lr: 0.00100000000000000002 |Train loss: 0.63542024|Val loss: 0.63407397\n",
      "Epoch: 133 | Lr: 0.00100000000000000002 |Train loss: 0.62163530|Val loss: 0.61624780\n",
      "Epoch: 134 | Lr: 0.00100000000000000002 |Train loss: 0.60114621|Val loss: 0.57742540\n",
      "Epoch: 135 | Lr: 0.00100000000000000002 |Train loss: 0.60114621|Val loss: 0.61814388\n",
      "Epoch: 136 | Lr: 0.00100000000000000002 |Train loss: 0.60114621|Val loss: 0.60107205\n",
      "Epoch: 137 | Lr: 0.00100000000000000002 |Train loss: 0.60114621|Val loss: 0.67814193\n",
      "Epoch: 138 | Lr: 0.00100000000000000002 |Train loss: 0.60114621|Val loss: 0.70050120\n",
      "Epoch: 139 | Lr: 0.00100000000000000002 |Train loss: 0.60114621|Val loss: 0.62136575\n",
      "Epoch: 140 | Lr: 0.00100000000000000002 |Train loss: 0.60114621|Val loss: 0.65452403\n",
      "Epoch: 141 | Lr: 0.00100000000000000002 |Train loss: 0.60114621|Val loss: 0.67363087\n",
      "Epoch: 142 | Lr: 0.00100000000000000002 |Train loss: 0.60114621|Val loss: 0.62312694\n",
      "Epoch: 143 | Lr: 0.00100000000000000002 |Train loss: 0.60114621|Val loss: 0.64009174\n",
      "Epoch: 144 | Lr: 0.00100000000000000002 |Train loss: 0.60114621|Val loss: 0.61189181\n",
      "Epoch: 145 | Lr: 0.00100000000000000002 |Train loss: 0.60114621|Val loss: 0.61851528\n",
      "Epoch: 146 | Lr: 0.00100000000000000002 |Train loss: 0.60114621|Val loss: 0.68706885\n",
      "Epoch: 147 | Lr: 0.00100000000000000002 |Train loss: 0.60114621|Val loss: 0.68460921\n",
      "Epoch: 148 | Lr: 0.00100000000000000002 |Train loss: 0.60114621|Val loss: 0.64547406\n",
      "Epoch: 149 | Lr: 0.00100000000000000002 |Train loss: 0.60114621|Val loss: 0.58076131\n",
      "Epoch: 150 | Lr: 0.00100000000000000002 |Train loss: 0.57930862|Val loss: 0.57997579\n",
      "Epoch: 151 | Lr: 0.00100000000000000002 |Train loss: 0.57930862|Val loss: 0.56091867\n",
      "Epoch: 152 | Lr: 0.00100000000000000002 |Train loss: 0.57930862|Val loss: 0.60885381\n",
      "Epoch: 153 | Lr: 0.00100000000000000002 |Train loss: 0.57930862|Val loss: 0.76850421\n",
      "Epoch: 154 | Lr: 0.00100000000000000002 |Train loss: 0.57930862|Val loss: 0.69016417\n",
      "Epoch: 155 | Lr: 0.00100000000000000002 |Train loss: 0.57930862|Val loss: 0.60788514\n",
      "Epoch: 156 | Lr: 0.00100000000000000002 |Train loss: 0.57930862|Val loss: 0.68681313\n",
      "Epoch: 157 | Lr: 0.00100000000000000002 |Train loss: 0.57930862|Val loss: 0.58632309\n",
      "Epoch: 158 | Lr: 0.00100000000000000002 |Train loss: 0.57930862|Val loss: 0.57344029\n",
      "Epoch: 159 | Lr: 0.00100000000000000002 |Train loss: 0.56703266|Val loss: 0.56446364\n",
      "Epoch: 160 | Lr: 0.00100000000000000002 |Train loss: 0.56703266|Val loss: 0.56549063\n",
      "Epoch: 161 | Lr: 0.00100000000000000002 |Train loss: 0.56703266|Val loss: 0.60988267\n",
      "Epoch: 162 | Lr: 0.00100000000000000002 |Train loss: 0.56703266|Val loss: 0.67557947\n",
      "Epoch: 163 | Lr: 0.00100000000000000002 |Train loss: 0.56703266|Val loss: 0.65180765\n",
      "Epoch: 164 | Lr: 0.00100000000000000002 |Train loss: 0.56703266|Val loss: 0.56121853\n",
      "Epoch: 165 | Lr: 0.00100000000000000002 |Train loss: 0.56703266|Val loss: 0.66850196\n",
      "Epoch: 166 | Lr: 0.00100000000000000002 |Train loss: 0.56703266|Val loss: 0.55271317\n",
      "Epoch: 167 | Lr: 0.00100000000000000002 |Train loss: 0.53706830|Val loss: 0.52903162\n",
      "Epoch: 168 | Lr: 0.00100000000000000002 |Train loss: 0.53706830|Val loss: 0.55836429\n",
      "Epoch: 169 | Lr: 0.00100000000000000002 |Train loss: 0.53026971|Val loss: 0.50585605\n",
      "Epoch: 170 | Lr: 0.00100000000000000002 |Train loss: 0.53026971|Val loss: 0.53063468\n",
      "Epoch: 171 | Lr: 0.00100000000000000002 |Train loss: 0.53026971|Val loss: 0.51481447\n",
      "Epoch: 172 | Lr: 0.00100000000000000002 |Train loss: 0.53026971|Val loss: 0.61693657\n",
      "Epoch: 173 | Lr: 0.00100000000000000002 |Train loss: 0.53026971|Val loss: 0.82307425\n",
      "Epoch: 174 | Lr: 0.00100000000000000002 |Train loss: 0.53026971|Val loss: 0.71434269\n",
      "Epoch: 175 | Lr: 0.00100000000000000002 |Train loss: 0.53026971|Val loss: 0.63979357\n",
      "Epoch: 176 | Lr: 0.00100000000000000002 |Train loss: 0.53026971|Val loss: 0.63169271\n",
      "Epoch: 177 | Lr: 0.00100000000000000002 |Train loss: 0.53026971|Val loss: 0.63138984\n",
      "Epoch: 178 | Lr: 0.00100000000000000002 |Train loss: 0.53026971|Val loss: 0.62701926\n",
      "Epoch: 179 | Lr: 0.00100000000000000002 |Train loss: 0.53026971|Val loss: 0.61074922\n",
      "Epoch: 180 | Lr: 0.00100000000000000002 |Train loss: 0.53026971|Val loss: 0.61900254\n",
      "Epoch: 181 | Lr: 0.00100000000000000002 |Train loss: 0.53026971|Val loss: 0.56707471\n",
      "Epoch: 182 | Lr: 0.00100000000000000002 |Train loss: 0.53026971|Val loss: 0.62341828\n",
      "Epoch: 183 | Lr: 0.00100000000000000002 |Train loss: 0.53026971|Val loss: 0.57615662\n",
      "Epoch: 184 | Lr: 0.00100000000000000002 |Train loss: 0.53026971|Val loss: 0.54665574\n",
      "Epoch: 185 | Lr: 0.00100000000000000002 |Train loss: 0.53026971|Val loss: 0.57773763\n",
      "Epoch: 186 | Lr: 0.00100000000000000002 |Train loss: 0.53026971|Val loss: 0.63861829\n",
      "Epoch: 187 | Lr: 0.00100000000000000002 |Train loss: 0.53026971|Val loss: 0.54594905\n",
      "Epoch: 188 | Lr: 0.00100000000000000002 |Train loss: 0.53026971|Val loss: 0.52427066\n",
      "Epoch: 189 | Lr: 0.00100000000000000002 |Train loss: 0.53026971|Val loss: 0.62027319\n",
      "Epoch: 190 | Lr: 0.00100000000000000002 |Train loss: 0.53026971|Val loss: 0.56014899\n",
      "Epoch: 191 | Lr: 0.00100000000000000002 |Train loss: 0.53026971|Val loss: 0.53884737\n",
      "Epoch: 192 | Lr: 0.00100000000000000002 |Train loss: 0.53026971|Val loss: 0.51605380\n",
      "Epoch: 193 | Lr: 0.00100000000000000002 |Train loss: 0.53026971|Val loss: 0.52408720\n",
      "Epoch: 194 | Lr: 0.00100000000000000002 |Train loss: 0.53026971|Val loss: 0.69487550\n"
     ]
    },
    {
     "name": "stdout",
     "output_type": "stream",
     "text": [
      "Epoch: 195 | Lr: 0.00100000000000000002 |Train loss: 0.53026971|Val loss: 0.68217189\n",
      "Epoch: 196 | Lr: 0.00100000000000000002 |Train loss: 0.53026971|Val loss: 0.53741735\n",
      "Epoch: 197 | Lr: 0.00100000000000000002 |Train loss: 0.53026971|Val loss: 0.52420443\n",
      "Epoch: 198 | Lr: 0.00100000000000000002 |Train loss: 0.52528097|Val loss: 0.50773771\n",
      "Epoch: 199 | Lr: 0.00100000000000000002 |Train loss: 0.52528097|Val loss: 0.55439643\n",
      "Epoch: 200 | Lr: 0.00100000000000000002 |Train loss: 0.52157899|Val loss: 0.50200210\n",
      "\n",
      "Training finished.\n",
      "\n"
     ]
    }
   ],
   "source": [
    "for epoch in tqdm_notebook(range(1, epochs + 1)):\n",
    "    mean_loss, n = 0.0 , train_features.shape[1]\n",
    "    train_mean_loss, test_mean_loss = 0, 0\n",
    "    for i in range(n):\n",
    "      # Tensor.cpu()\n",
    "        train, train_target = get_features(totensor(train_features), i)\n",
    "        train, train_target = totensor(train), totensor(train_target)\n",
    "        val, val_target = get_features(totensor(val_features), i)\n",
    "        val, val_target = totensor(val), totensor(val_target)\n",
    "        y_train, y_val = model(train), model(val)\n",
    "        train_loss, val_loss = loss(y_train, train_target), loss(y_val, val_target)\n",
    "        optimizer.zero_grad()\n",
    "        train_loss.backward()\n",
    "        optimizer.step()\n",
    "        losses.loc[i,'Training Loss'], losses.loc[i,'Validating Loss'] = train_loss.detach().cpu().numpy(), val_loss.detach().cpu().numpy()\n",
    "    train_loss, val_loss = losses['Training Loss'].mean(), losses['Validating Loss'].mean()\n",
    "    mean_losses.append((train_loss, val_loss))\n",
    "    if train_loss < min_val_loss:\n",
    "        min_val_loss = train_loss\n",
    "    print('Epoch: {:03d} | Lr: {:.20f} |Train loss: {:.8f}|Val loss: {:.8f}'.\\\n",
    "          format(epoch, optimizer.param_groups[0]['lr'], min_val_loss, val_loss))\n",
    "\n",
    "print('\\nTraining finished.\\n')"
   ]
  },
  {
   "cell_type": "code",
   "execution_count": 9,
   "id": "c27eeab5",
   "metadata": {},
   "outputs": [],
   "source": [
    "test_loss = []\n",
    "for i in range(n):\n",
    "    test, test_target = get_features(totensor(test_features), i)\n",
    "    test, test_target = totensor(test), totensor(test_target)\n",
    "    test_y = model(test)\n",
    "    # val_y = model(val)\n",
    "    test_loss.append(loss(test_target,test_y).detach().cpu().numpy())\n",
    "# print('Test loss: {:.8f}'.\\\n",
    "#       format())\n",
    "# nn.MSELoss(test_y.detach().flatten(),test_target.flatten())\n",
    "# test_y"
   ]
  },
  {
   "cell_type": "code",
   "execution_count": 10,
   "id": "93cd247d",
   "metadata": {},
   "outputs": [
    {
     "name": "stdout",
     "output_type": "stream",
     "text": [
      "0.47600457\n"
     ]
    }
   ],
   "source": [
    "print(np.array(test_loss).mean())\n",
    "mean_losses = np.array(mean_losses)"
   ]
  },
  {
   "cell_type": "code",
   "execution_count": 11,
   "id": "a8b5a1eb",
   "metadata": {},
   "outputs": [
    {
     "data": {
      "image/png": "[encoded data removed]",
      "text/plain": [
       "<Figure size 432x288 with 1 Axes>"
      ]
     },
     "metadata": {},
     "output_type": "display_data"
    }
   ],
   "source": [
    "t_lose = [x for x in np.convolve(mean_losses[:,0], np.ones(20), 'valid') / 20]\n",
    "v_lose = [x for x in np.convolve(mean_losses[:,1], np.ones(20), 'valid') / 20]\n",
    "plt.figure(facecolor='white')\n",
    "plt.plot(t_lose,label = 'val')\n",
    "plt.plot(v_lose,label = 'train')\n",
    "plt.legend()\n",
    "#plt.title('LSTM Training Curve')\n",
    "plt.show()"
   ]
  },
  {
   "cell_type": "code",
   "execution_count": 12,
   "id": "9f8d0a68",
   "metadata": {},
   "outputs": [
    {
     "data": {
      "text/plain": [
       "(0.7915353159317522, 0.40866276653609124)"
      ]
     },
     "execution_count": 12,
     "metadata": {},
     "output_type": "execute_result"
    }
   ],
   "source": [
    "eva_set =np.zeros((n,2))\n",
    "for i in range(n):\n",
    "    test, test_target = get_features(totensor(test_features), i)\n",
    "    test = totensor(test)\n",
    "    y_test =  model(test).detach().cpu().numpy().reshape(-1)[-1]\n",
    "    test_target = test_target.reshape(-1)[-1]\n",
    "    eva_set[i] = np.array([test_target,y_test])\n",
    "    \n",
    "scipy.stats.pearsonr(eva_set[:,0],eva_set[:,1])[0],mean_squared_error(eva_set[:,0],eva_set[:,1])"
   ]
  },
  {
   "cell_type": "code",
   "execution_count": 13,
   "id": "63b893ab",
   "metadata": {},
   "outputs": [
    {
     "data": {
      "image/png": "[encoded data removed]",
      "text/plain": [
       "<Figure size 936x288 with 1 Axes>"
      ]
     },
     "metadata": {},
     "output_type": "display_data"
    }
   ],
   "source": [
    "a = eva_set[:,0]\n",
    "p = eva_set[:,1]\n",
    "plt.figure(figsize = (13,4),facecolor='white')\n",
    "xxx = np.arange(len(p))\n",
    "\n",
    "plt.bar(xxx-0.5,a[xxx],0.5,label = 'true')\n",
    "plt.bar(xxx,p[xxx],0.5,label = 'prediction')\n",
    "plt.legend()\n",
    "#plt.title('LSTM Prediction')\n",
    "plt.show()"
   ]
  },
  {
   "cell_type": "markdown",
   "id": "628fec73",
   "metadata": {},
   "source": [
    "# Linear Regressor"
   ]
  },
  {
   "cell_type": "code",
   "execution_count": 54,
   "id": "f418a893",
   "metadata": {},
   "outputs": [],
   "source": [
    "import statsmodels.api as sm\n",
    "n = train_features.shape[1]\n",
    "new_train_feature = np.zeros((train_features.shape[0]*n,train_features.shape[2]+1))\n",
    "for i in range(n):\n",
    "    new_train_feature[train_features.shape[0]*i:train_features.shape[0]*(i+1)] = np.hstack((train_features[:,i,:],np.array([[i]]*train_features.shape[0])))\n",
    "train = pd.DataFrame(new_train_feature)\n",
    "train[5] = train[5].astype('category')\n",
    "X_train,Y_train = train.iloc[:,[0,1,2,3,5]],train.iloc[:,4]\n",
    "X_train = pd.get_dummies(data=X_train, drop_first=True)"
   ]
  },
  {
   "cell_type": "code",
   "execution_count": 55,
   "id": "5166ba36",
   "metadata": {},
   "outputs": [
    {
     "data": {
      "text/plain": [
       "(9288, 175)"
      ]
     },
     "execution_count": 55,
     "metadata": {},
     "output_type": "execute_result"
    }
   ],
   "source": [
    "X_train.shape"
   ]
  },
  {
   "cell_type": "code",
   "execution_count": 56,
   "id": "f8fc2afc",
   "metadata": {},
   "outputs": [],
   "source": [
    "new_test_feature = np.zeros(((test_features.shape[0]+val_features.shape[0])*n,(test_features.shape[2])+1))\n",
    "for i in range(n):\n",
    "    new_test_feature[test_features.shape[0]*i:test_features.shape[0]*(i+1)] = np.hstack((test_features[:,i,:],np.array([[i]]*test_features.shape[0])))\n",
    "    new_test_feature[test_features.shape[0]*n + val_features.shape[0]*i:test_features.shape[0]*n + val_features.shape[0]*(i+1)] = np.hstack((val_features[:,i,:],np.array([[i]]*val_features.shape[0])))\n",
    "test = pd.DataFrame(new_test_feature)\n",
    "test[5] = test[5].astype('category')\n",
    "X_test,Y_test = test.iloc[:,[0,1,2,3,5]],test.iloc[:,4]\n",
    "X_test = pd.get_dummies(data=X_test, drop_first=True)"
   ]
  },
  {
   "cell_type": "code",
   "execution_count": 57,
   "id": "18492ab8",
   "metadata": {},
   "outputs": [],
   "source": [
    "X2 = sm.add_constant(X_train)\n",
    "est = sm.OLS(Y_train,X2)\n",
    "est2 = est.fit_regularized(L1_wt = .5,alpha = .1)\n",
    "from sklearn.linear_model import LinearRegression\n",
    "X_train = X_train.values\n",
    "Y_train = Y_train.values\n",
    "\n",
    "model = LinearRegression()\n",
    "m1 = model.fit(X_train,Y_train)"
   ]
  },
  {
   "cell_type": "code",
   "execution_count": 61,
   "id": "8594a8d1",
   "metadata": {},
   "outputs": [
    {
     "data": {
      "text/plain": [
       "(175,)"
      ]
     },
     "execution_count": 61,
     "metadata": {},
     "output_type": "execute_result"
    }
   ],
   "source": [
    "m1.coef_.shape"
   ]
  },
  {
   "cell_type": "code",
   "execution_count": 46,
   "id": "e1f7c131",
   "metadata": {},
   "outputs": [
    {
     "ename": "AttributeError",
     "evalue": "'LinearRegression' object has no attribute 'parameters'",
     "output_type": "error",
     "traceback": [
      "\u001b[0;31m---------------------------------------------------------------------------\u001b[0m",
      "\u001b[0;31mAttributeError\u001b[0m                            Traceback (most recent call last)",
      "\u001b[0;32m/var/folders/95/q1wcrhsx3yq13qcdqp7pr5700000gn/T/ipykernel_5838/1818462078.py\u001b[0m in \u001b[0;36m<module>\u001b[0;34m\u001b[0m\n\u001b[0;32m----> 1\u001b[0;31m \u001b[0mmodel\u001b[0m\u001b[0;34m.\u001b[0m\u001b[0mparameters\u001b[0m\u001b[0;34m\u001b[0m\u001b[0;34m\u001b[0m\u001b[0m\n\u001b[0m",
      "\u001b[0;31mAttributeError\u001b[0m: 'LinearRegression' object has no attribute 'parameters'"
     ]
    }
   ],
   "source": []
  },
  {
   "cell_type": "code",
   "execution_count": 16,
   "id": "7f1705a2",
   "metadata": {},
   "outputs": [
    {
     "data": {
      "text/plain": [
       "(0.8340322307603366, 0.31143011297674456)"
      ]
     },
     "execution_count": 16,
     "metadata": {},
     "output_type": "execute_result"
    }
   ],
   "source": [
    "XX = sm.add_constant(X_test)\n",
    "pred_y = est2.predict(XX)\n",
    "scipy.stats.pearsonr(Y_test,pred_y)[0],mean_squared_error(Y_test,pred_y)\n",
    "# pred_y"
   ]
  },
  {
   "cell_type": "code",
   "execution_count": 17,
   "id": "687fa654",
   "metadata": {},
   "outputs": [
    {
     "data": {
      "image/png": "[encoded data removed]",
      "text/plain": [
       "<Figure size 1300x400 with 1 Axes>"
      ]
     },
     "metadata": {},
     "output_type": "display_data"
    }
   ],
   "source": [
    "a = np.array(Y_test[:3096]).reshape((172,-1),order = 'A').mean(axis = 1 )\n",
    "p = np.array(pred_y[:3096]).reshape((172,-1),order = 'A').mean(axis = 1 )\n",
    "plt.figure(figsize = (13,4),facecolor='white')\n",
    "xxx = np.arange(len(p))\n",
    "\n",
    "plt.bar(xxx-0.5,a[xxx],0.5,label = 'true')\n",
    "plt.bar(xxx,p[xxx],0.5,label = 'prediction')\n",
    "plt.legend()\n",
    "#plt.title('Linear Regression Prediction')\n",
    "plt.show()"
   ]
  },
  {
   "cell_type": "markdown",
   "id": "2e3760a5",
   "metadata": {},
   "source": [
    "# AR (Autoregressive Model)"
   ]
  },
  {
   "cell_type": "code",
   "execution_count": 34,
   "id": "65302ec9",
   "metadata": {},
   "outputs": [
    {
     "data": {
      "text/plain": [
       "(172, 54)"
      ]
     },
     "execution_count": 34,
     "metadata": {},
     "output_type": "execute_result"
    }
   ],
   "source": [
    "from statsmodels.tsa.stattools import adfuller\n",
    "from statsmodels.tsa.ar_model import AutoReg\n",
    "from statsmodels.tsa.stattools import pacf\n",
    "from statsmodels.tsa.stattools import acf\n",
    "from statsmodels.graphics.tsaplots import plot_pacf\n",
    "from statsmodels.graphics.tsaplots import plot_acf\n",
    "\n",
    "train_series = train_features[:,:,4].T\n",
    "test_series = test_features[:,:,4].T\n",
    "val_series = val_features[:,:,4].T\n",
    "train_series.shape"
   ]
  },
  {
   "cell_type": "code",
   "execution_count": 92,
   "id": "79d4ab8c",
   "metadata": {},
   "outputs": [],
   "source": [
    "import numpy as np\n",
    "import pandas as pd\n",
    "from statsmodels.tsa.arima.model import ARIMA\n",
    "\n",
    "def get_AR_order(data, max_order=10):\n",
    "    \"\"\"\n",
    "    data: time series data\n",
    "    max_order: maximum AR order\n",
    "    return: best order\n",
    "    \"\"\"\n",
    "    df = pd.DataFrame(data)\n",
    "\n",
    "    # calculate AIC for each AR model\n",
    "    aic = []\n",
    "    for i in range(1, max_order+1):\n",
    "        model = ARIMA(df, order=(i, 0, 0))\n",
    "        try:\n",
    "            result = model.fit()\n",
    "            aic.append(result.aic)\n",
    "        except:\n",
    "            aic.append(np.nan)\n",
    "\n",
    "    # find the one with smallest AIC\n",
    "    best_order = np.nanargmin(aic) + 1\n",
    "\n",
    "    return best_order"
   ]
  },
  {
   "cell_type": "code",
   "execution_count": 103,
   "id": "9d850b5d",
   "metadata": {},
   "outputs": [
    {
     "data": {
      "text/plain": [
       "(172, 18)"
      ]
     },
     "execution_count": 103,
     "metadata": {},
     "output_type": "execute_result"
    }
   ],
   "source": [
    "import warnings\n",
    "warnings.filterwarnings('ignore')\n",
    "ar_models = []\n",
    "for i in range(n):\n",
    "    zipLag = get_AR_order(train_series[i],5)\n",
    "    ar_model = AutoReg(train_series[i], lags=zipLag).fit()\n",
    "    ar_models.append(ar_model)\n",
    "test_series.shape"
   ]
  },
  {
   "cell_type": "code",
   "execution_count": 104,
   "id": "c40e36aa",
   "metadata": {},
   "outputs": [],
   "source": [
    "ar_pred = []\n",
    "for i in range(n):\n",
    "    pred = ar_models[i].predict(start=train_series.shape[1]+val_series.shape[1]+1,\n",
    "                              end=(train_series.shape[1]+test_series.shape[1]+val_series.shape[1]), dynamic=False)\n",
    "    ar_pred.append(pred)\n",
    "ar_pred = np.array(ar_pred)"
   ]
  },
  {
   "cell_type": "code",
   "execution_count": 105,
   "id": "786593a9",
   "metadata": {},
   "outputs": [
    {
     "data": {
      "image/png": "[encoded data removed]",
      "text/plain": [
       "<Figure size 1300x400 with 1 Axes>"
      ]
     },
     "metadata": {},
     "output_type": "display_data"
    }
   ],
   "source": [
    "a = test_series.mean(axis=1)\n",
    "p = ar_pred.mean(axis=1)\n",
    "plt.figure(figsize = (13,4),facecolor='white')\n",
    "xxx = np.arange(len(p))\n",
    "\n",
    "plt.bar(xxx-0.5,a[xxx],0.5,label = 'true')\n",
    "plt.bar(xxx,p[xxx],0.5,label = 'prediction')\n",
    "plt.legend()\n",
    "#plt.title('AR Prediction')\n",
    "plt.show()"
   ]
  },
  {
   "cell_type": "code",
   "execution_count": 106,
   "id": "11194b29",
   "metadata": {},
   "outputs": [
    {
     "data": {
      "text/plain": [
       "(0.921166066483005, 0.15205995242641626)"
      ]
     },
     "execution_count": 106,
     "metadata": {},
     "output_type": "execute_result"
    }
   ],
   "source": [
    "pred_y = ar_pred.flatten()\n",
    "actual_y = test_series.flatten()\n",
    "scipy.stats.pearsonr(pred_y,actual_y)[0],mean_squared_error(pred_y,actual_y)"
   ]
  },
  {
   "cell_type": "markdown",
   "id": "0e7ea33a",
   "metadata": {},
   "source": [
    "# HA (Historical Average)"
   ]
  },
  {
   "cell_type": "code",
   "execution_count": 25,
   "id": "b33e803f",
   "metadata": {},
   "outputs": [],
   "source": [
    "HA_pred = np.zeros((n,4))\n",
    "for i in range(n):\n",
    "    for k in range(3):\n",
    "        HA_pred[i][k] = (np.sum(train_series[i,-(3-k)])+np.sum(HA_pred[i]))/4\n",
    "    HA_pred[i][3] = sum(HA_pred[i])/4\n",
    "pred_y = HA_pred.flatten()\n",
    "actual_y = np.array([x[-4:] for x in val_series]).flatten()"
   ]
  },
  {
   "cell_type": "code",
   "execution_count": 26,
   "id": "68e2b415",
   "metadata": {},
   "outputs": [
    {
     "data": {
      "text/plain": [
       "(0.9518003729199354, 0.5151370420798731)"
      ]
     },
     "execution_count": 26,
     "metadata": {},
     "output_type": "execute_result"
    }
   ],
   "source": [
    "scipy.stats.pearsonr(pred_y,actual_y)[0],mean_squared_error(pred_y,actual_y)"
   ]
  },
  {
   "cell_type": "code",
   "execution_count": 27,
   "id": "188bcc99",
   "metadata": {},
   "outputs": [],
   "source": [
    "a = actual_y.reshape((172,-1)).mean(axis = 1)\n",
    "p = pred_y.reshape((172,-1)).mean(axis = 1)"
   ]
  },
  {
   "cell_type": "code",
   "execution_count": 28,
   "id": "ca263bbb",
   "metadata": {},
   "outputs": [
    {
     "data": {
      "image/png": "[encoded data removed]",
      "text/plain": [
       "<Figure size 936x288 with 1 Axes>"
      ]
     },
     "metadata": {},
     "output_type": "display_data"
    }
   ],
   "source": [
    "a = actual_y.reshape((172,-1)).mean(axis = 1)\n",
    "p = pred_y.reshape((172,-1)).mean(axis = 1)\n",
    "plt.figure(figsize = (13,4),facecolor='white')\n",
    "xxx = np.arange(len(p))\n",
    "\n",
    "plt.bar(xxx-0.5,a[xxx],0.5,label = 'true')\n",
    "plt.bar(xxx,p[xxx],0.5,label = 'prediction')\n",
    "plt.legend()\n",
    "#plt.title('HA Prediction')\n",
    "plt.show()"
   ]
  },
  {
   "cell_type": "markdown",
   "id": "1f12150b",
   "metadata": {},
   "source": [
    "## Model Evaluation"
   ]
  },
  {
   "cell_type": "code",
   "execution_count": 29,
   "id": "680d7ba0",
   "metadata": {},
   "outputs": [
    {
     "data": {
      "text/html": [
       "<div>\n",
       "<style scoped>\n",
       "    .dataframe tbody tr th:only-of-type {\n",
       "        vertical-align: middle;\n",
       "    }\n",
       "\n",
       "    .dataframe tbody tr th {\n",
       "        vertical-align: top;\n",
       "    }\n",
       "\n",
       "    .dataframe thead th {\n",
       "        text-align: right;\n",
       "    }\n",
       "</style>\n",
       "<table border=\"1\" class=\"dataframe\">\n",
       "  <thead>\n",
       "    <tr style=\"text-align: right;\">\n",
       "      <th></th>\n",
       "      <th>HA</th>\n",
       "      <th>AR</th>\n",
       "      <th>Linear Regression</th>\n",
       "      <th>LSTM</th>\n",
       "      <th>ASTGCN</th>\n",
       "    </tr>\n",
       "  </thead>\n",
       "  <tbody>\n",
       "    <tr>\n",
       "      <th>MSE</th>\n",
       "      <td>0.515</td>\n",
       "      <td>0.202</td>\n",
       "      <td>0.311</td>\n",
       "      <td>0.397</td>\n",
       "      <td>0.197</td>\n",
       "    </tr>\n",
       "    <tr>\n",
       "      <th>Pearson R</th>\n",
       "      <td>0.951</td>\n",
       "      <td>0.901</td>\n",
       "      <td>0.834</td>\n",
       "      <td>0.786</td>\n",
       "      <td>0.963</td>\n",
       "    </tr>\n",
       "  </tbody>\n",
       "</table>\n",
       "</div>"
      ],
      "text/plain": [
       "              HA     AR  Linear Regression   LSTM  ASTGCN\n",
       "MSE        0.515  0.202              0.311  0.397   0.197\n",
       "Pearson R  0.951  0.901              0.834  0.786   0.963"
      ]
     },
     "execution_count": 29,
     "metadata": {},
     "output_type": "execute_result"
    }
   ],
   "source": [
    "evl = pd.DataFrame({\"HA\":[0.515,0.951],\n",
    "             \"AR\":[0.202, 0.901],\n",
    "             \"Linear Regression\":[0.311, 0.834],\n",
    "             \"LSTM\":[0.397,0.786],\n",
    "                   \"ASTGCN\":[0.197, 0.963]})\n",
    "evl.index = [\"MSE\", \"Pearson R\"]\n",
    "evl"
   ]
  },
  {
   "cell_type": "code",
   "execution_count": null,
   "id": "0fa3ed08",
   "metadata": {},
   "outputs": [],
   "source": []
  }
 ],
 "metadata": {
  "kernelspec": {
   "display_name": "Python 3 (ipykernel)",
   "language": "python",
   "name": "python3"
  },
  "language_info": {
   "codemirror_mode": {
    "name": "ipython",
    "version": 3
   },
   "file_extension": ".py",
   "mimetype": "text/x-python",
   "name": "python",
   "nbconvert_exporter": "python",
   "pygments_lexer": "ipython3",
   "version": "3.7.13"
  },
  "toc": {
   "base_numbering": 1,
   "nav_menu": {},
   "number_sections": true,
   "sideBar": true,
   "skip_h1_title": false,
   "title_cell": "Table of Contents",
   "title_sidebar": "Contents",
   "toc_cell": false,
   "toc_position": {},
   "toc_section_display": true,
   "toc_window_display": false
  },
  "varInspector": {
   "cols": {
    "lenName": 16,
    "lenType": 16,
    "lenVar": 40
   },
   "kernels_config": {
    "python": {
     "delete_cmd_postfix": "",
     "delete_cmd_prefix": "del ",
     "library": "var_list.py",
     "varRefreshCmd": "print(var_dic_list())"
    },
    "r": {
     "delete_cmd_postfix": ") ",
     "delete_cmd_prefix": "rm(",
     "library": "var_list.r",
     "varRefreshCmd": "cat(var_dic_list()) "
    }
   },
   "types_to_exclude": [
    "module",
    "function",
    "builtin_function_or_method",
    "instance",
    "_Feature"
   ],
   "window_display": false
  }
 },
 "nbformat": 4,
 "nbformat_minor": 5
}
